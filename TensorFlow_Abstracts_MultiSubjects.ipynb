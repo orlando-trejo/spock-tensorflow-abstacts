{
 "cells": [
  {
   "cell_type": "markdown",
   "metadata": {},
   "source": [
    "# TensorFlow on Abstracts of Multiple Subjects from August 2017 Training Data \n",
    "In this notebook, a recurrent neural network is used to identify disciplines from journal abstracts. Using a RNN is useful and more accurate since information about the *sequence* of the words is used. For this project, a dataset of titles (features) and subjects (labels) from scientific papers is used for the RNN training. This RNN uses an *embedding layer* for a more efficient representation of the vocabulary. This new representation of words from the embedding layer is then passed to Long-Short Term Memory (LSTM) cells, which adds recurrent connections to the newtork."
   ]
  },
  {
   "cell_type": "markdown",
   "metadata": {},
   "source": [
    "## Import Main Libraries"
   ]
  },
  {
   "cell_type": "code",
   "execution_count": 1,
   "metadata": {
    "collapsed": true
   },
   "outputs": [],
   "source": [
    "%matplotlib inline\n",
    "%config InlineBackend.figure_format = 'retina'\n",
    "\n",
    "import matplotlib.pyplot as plt\n",
    "import numpy as np\n",
    "import pandas as pd\n",
    "import tensorflow as tf\n",
    "#!pip install --upgrade nltk\n",
    "import nltk\n",
    "#nltk.download('popular')"
   ]
  },
  {
   "cell_type": "markdown",
   "metadata": {},
   "source": [
    "## Import Data and Preprocess\n",
    "The original data files are from the Google shared drive. They are either from Roxana or Diego. The first training set, 'arxiv_train_set', was modified to include column labels ('Titles' and 'Labels') and saved as a csv file using Excel. The second training set provided by Diego also contains information about character counts, term counts, review, and references. "
   ]
  },
  {
   "cell_type": "code",
   "execution_count": 119,
   "metadata": {
    "collapsed": false
   },
   "outputs": [
    {
     "data": {
      "text/plain": [
       "(13106, 7)"
      ]
     },
     "execution_count": 119,
     "metadata": {},
     "output_type": "execute_result"
    }
   ],
   "source": [
    "data = pd.read_csv('2017_09_14_diego_numerical_data_abstracts.csv', encoding='latin1') ## Encoding of latin1 helps eliminate reading errors\n",
    "data.shape ## Inspect data structure"
   ]
  },
  {
   "cell_type": "code",
   "execution_count": 129,
   "metadata": {
    "collapsed": false
   },
   "outputs": [
    {
     "data": {
      "text/plain": [
       "'We present a semi-analytical model of star formation which explains simultaneously the observed UV luminosity function of high redshift Lyman break galaxies (LBGs) and luminosity functions of Lyman-alpha emitters. We consider both models that use the Press-Schechter (PS) and Sheth-Tormen (ST) halo mass functions to calculate the abundances of dark matter halos. The Lyman-alpha luminosity functions at z < 4 are well reproduced with only <10% of the LBGs emitting Lyman-alpha lines with rest equivalent width greater than the limiting equivalent width of the narrow band surveys. However, the observed luminosity function at z > 5 can be reproduced only when we assume that nearly all LBGs are Lyman-alpha emitters. Thus it appears that 4 < z < 5 marks the epoch when a clear change occurs in the physical properties of the high redshift galaxies. As Lyman-alpha escape depends on dust and gas kinematics of the inter stellar medium (ISM), this could mean that on an average the ISM at z > 5 could be less dusty, more clumpy and having more complex velocity field. All of these will enable easier escape of the Lyman-alpha photons. At z > 5 the observed Lyman-alpha luminosity function are well reproduced with the evolution in the halo mass function along with very minor evolution in the physical properties of high redshift galaxies. In particular, upto z = 6.5, we do not see the effect of evolving inter galactic medium (IGM) opacity on the Lyman-alpha escape from these galaxies.'"
      ]
     },
     "execution_count": 129,
     "metadata": {},
     "output_type": "execute_result"
    }
   ],
   "source": [
    "# Define titles and labels \n",
    "#abstracts = data.Abstracts.astype(str)\n",
    "#labels = data.Labels.astype(str)\n",
    "\n",
    "# Simplify number of classes\n",
    "data['class'] = data['category'].apply(lambda x: x.split('.')[0])\n",
    "\n",
    "abstracts = data.abstract.astype(str)\n",
    "labels = data['class'].astype(str)\n",
    "\n",
    "# Inspect titles\n",
    "abstracts[0]"
   ]
  },
  {
   "cell_type": "markdown",
   "metadata": {},
   "source": [
    "### Cleaning Abstracts\n",
    "As shown in the abstract example, there are capitilazations, punctuations, and formatting issues that need to be cleaned up before creating an embedding layer. Hyphenated words, for now, will be made into one word. It may be useful to reconsider this approach on hyphenated words if it is necessary to improve accuracies. "
   ]
  },
  {
   "cell_type": "code",
   "execution_count": 130,
   "metadata": {
    "collapsed": false
   },
   "outputs": [
    {
     "data": {
      "text/plain": [
       "'we present a semi analytical model of star formation which explains simultaneously the observed uv luminosity function of high redshift lyman break galaxy lbgs and luminosity function of lyman alpha emitters we consider both model that use the press schechter ps and sheth tormen st halo mass function to calculate the abundance of dark matter halos the lyman alpha luminosity function at z   are well reproduced with only  of the lbgs emitting lyman alpha line with rest equivalent width greater than the limiting equivalent width of the narrow band surveys however the observed luminosity function at z   can be reproduced only when we assume that nearly all lbgs are lyman alpha emitters thus it appears that   z   mark the epoch when a clear change occurs in the physical property of the high redshift galaxies as lyman alpha escape depends on dust and gas kinematics of the inter stellar medium ism this could mean that on an average the ism at z   could be le dusty more clumpy and having more complex velocity field all of these will enable easier escape of the lyman alpha photons at z   the observed lyman alpha luminosity function are well reproduced with the evolution in the halo mass function along with very minor evolution in the physical property of high redshift galaxies in particular upto z   we do not see the effect of evolving inter galactic medium igm opacity on the lyman alpha escape from these galaxies'"
      ]
     },
     "execution_count": 130,
     "metadata": {},
     "output_type": "execute_result"
    }
   ],
   "source": [
    "## Clean up abstracts\n",
    "import re\n",
    "from string import punctuation\n",
    "from nltk.stem import WordNetLemmatizer\n",
    "\n",
    "abstracts = abstracts.replace('\\r', '', regex=True) ## Remove '\\r'\n",
    "abstracts = abstracts.replace('-', ' ', regex=True) ## Remove hyphenated words\n",
    "\n",
    "wnl = WordNetLemmatizer()\n",
    "abstracts_clean = []\n",
    "for row in abstracts:\n",
    "    row = [wnl.lemmatize(word) for word in row.split()]\n",
    "    row = ' '.join(row)\n",
    "    row = row.lower() ## Put all text into lowercase\n",
    "    row = ''.join([c for c in row if c not in punctuation]) ## Remove punctuation\n",
    "    row = ''.join([c for c in row if not c.isdigit()]) ## Remove numbers\n",
    "    abstracts_clean.append(row)\n",
    "    \n",
    "## Inspect clean titles\n",
    "abstracts_clean[0]"
   ]
  },
  {
   "cell_type": "markdown",
   "metadata": {},
   "source": [
    "### Creating vocaublary and transforming words into integers\n",
    "This step is necessary for TensorFlow to work with words of the abstracts in a numerical manner. All words are given a specific *token* that is used to give them a numeric presence. The value of the token does not necesarilly correlate with the length, frequency, or position of the respective word. However, it is common to sort the words by frequency to have a way to apply cutoffs in the vocabulary if needed to imporve training accuracies. An inversion dictionary was added to convert integers back to words."
   ]
  },
  {
   "cell_type": "code",
   "execution_count": 131,
   "metadata": {
    "collapsed": false
   },
   "outputs": [],
   "source": [
    "# Change title words to integers\n",
    "from collections import Counter\n",
    "\n",
    "all_text = ' '.join(abstracts_clean) ## Create compiled text\n",
    "words = all_text.split() ## Create list of all words\n",
    "\n",
    "counts = Counter(words) ## Count the occurence of each word\n",
    "vocab = sorted(counts, key=counts.get, reverse=True) ## Sorted words by occurence\n",
    "vocab_to_int = {word: ii for ii, word in enumerate(vocab, 1)} ## Conversion dictionary\n",
    "int_to_vocab = {ii: word for ii, word in enumerate(vocab, 1)} ## Inversion dictionary\n",
    "\n",
    "abstracts_ints = [] ## Empty titles list for integer encoding\n",
    "# Introduce word frequency cutoffs for analysis\n",
    "for abstract in abstracts_clean:\n",
    "    abstracts_ints.append([vocab_to_int[word] if counts[word] > 0 and counts[word] < 4000 \\\n",
    "                           else 0 for word in abstract.split()]) ## Label 0 words outside cutoffs\n",
    "    \n",
    "# Remove elements in rows with 0    \n",
    "for ii in range(len(abstracts_ints)):\n",
    "    abstracts_ints[ii] = list(filter((0).__ne__, abstracts_ints[ii]))\n",
    "# Inspect titles_ints\n",
    "#abstracts_ints[0]\n",
    "#vocab[len(vocab)-100:len(vocab)-90] ## Inspect least common words\n"
   ]
  },
  {
   "cell_type": "code",
   "execution_count": 132,
   "metadata": {
    "collapsed": false
   },
   "outputs": [
    {
     "data": {
      "text/plain": [
       "cs          3306\n",
       "math        3204\n",
       "physics     2091\n",
       "cond-mat     904\n",
       "q-bio        800\n",
       "astro-ph     596\n",
       "nlin         505\n",
       "stat         501\n",
       "q-fin        301\n",
       "math-ph      102\n",
       "hep-ex       101\n",
       "hep-ph       100\n",
       "hep-lat      100\n",
       "quant-ph     100\n",
       "gr-qc        100\n",
       "nucl-th       99\n",
       "hep-th        98\n",
       "nucl-ex       98\n",
       "Name: class, dtype: int64"
      ]
     },
     "execution_count": 132,
     "metadata": {},
     "output_type": "execute_result"
    }
   ],
   "source": [
    "data['class'].value_counts()"
   ]
  },
  {
   "cell_type": "markdown",
   "metadata": {},
   "source": [
    "### Subset data and one-hot-encode subjects\n",
    "In this section the data can be subseted in order to control the number of subjects to be analyzed. NOTE: For this case, subjects for a given field are being lumped together in one catergory. That is, all subjects of astrophysics are being encoded to fit in the astrophysics group and so forth. This results in 13 distinct 'subjects' to be analyzed in this notebook."
   ]
  },
  {
   "cell_type": "code",
   "execution_count": 133,
   "metadata": {
    "collapsed": false
   },
   "outputs": [
    {
     "data": {
      "text/plain": [
       "13106"
      ]
     },
     "execution_count": 133,
     "metadata": {},
     "output_type": "execute_result"
    }
   ],
   "source": [
    "# Create subset for titles and subjects if needed\n",
    "sub_idx = 13106 ## Subset final index\n",
    "abstracts_ints_sub = abstracts_ints[:sub_idx] ## Titles ints subset\n",
    "labels_sub = labels[:sub_idx] ## Subject subset\n",
    "\n",
    "# Encode 13 \"subjects\" (disciplines) from text to numbers\n",
    "#labels_class_sub = np.array([1 if 'astro' in label else 2 if 'physics.' in label\\\n",
    "                            #else 1 if 'gr-' in label else 2 if 'hep' in label\\\n",
    "                            #else 5 if 'math' in label else 6 if 'nlin.' in label\\\n",
    "                            #else 2 if 'nucl-' in label else 2 if 'cond-mat.' in label\\\n",
    "                            #else 9 if 'q-bio.' in label else 10 if 'q-fin.' in label\\\n",
    "                            #else 2 if 'quant-ph' in label else 5 if 'stat.' in label\n",
    "                            #else 0 for label in labels_sub]) \n",
    "                            ## cs has to be labeled 0 to avoid overlap w/ physics\n",
    "\n",
    "#print(np.unique(labels_class_sub)) ## check which subjects are being identified\n",
    "\n",
    "# One hot encode of subjects \n",
    "from sklearn import preprocessing\n",
    "lb = preprocessing.LabelBinarizer()\n",
    "lb.fit(labels_sub)\n",
    "labels_ints_sub = lb.transform(labels_sub)\n",
    "type(labels_ints_sub)\n",
    "len(labels_ints_sub)"
   ]
  },
  {
   "cell_type": "markdown",
   "metadata": {},
   "source": [
    "### Modulate abstract length\n",
    "This section of code helps modulate the minimum abstract length in words that will be analyzed. "
   ]
  },
  {
   "cell_type": "code",
   "execution_count": 134,
   "metadata": {
    "collapsed": false
   },
   "outputs": [
    {
     "data": {
      "text/plain": [
       "13106"
      ]
     },
     "execution_count": 134,
     "metadata": {},
     "output_type": "execute_result"
    }
   ],
   "source": [
    "# Make a cutoff for minimum abstract length\n",
    "min_abstract_length = 1 ## Minimum number of words needed\n",
    "# Find index for row with abstracts greater than minimum words\n",
    "non_min_idx = [ii for ii, abstract in enumerate(abstracts_ints_sub) if len(abstract) >= min_abstract_length]\n",
    "\n",
    "# Further subset the asbtracts and labels \n",
    "abstracts_ints_sub = [abstracts_ints_sub[ii] for ii in non_min_idx]\n",
    "labels_ints_sub = np.array([labels_ints_sub[ii] for ii in non_min_idx])\n",
    "\n",
    "len(labels_ints_sub)"
   ]
  },
  {
   "cell_type": "markdown",
   "metadata": {},
   "source": [
    "### Find longest title and create titles matrix with corresponding dimensions\n",
    "It is necessary to find the longest title from the subset in order to determine the number of columns necessary in titles matrix. In cases where the titles are shorter, it is necessary to pad the empty locations in a given row with zeros. All rows are filled from right to left so the padding of zeros occurs prior to each sentence of integers."
   ]
  },
  {
   "cell_type": "code",
   "execution_count": 135,
   "metadata": {
    "collapsed": false
   },
   "outputs": [
    {
     "name": "stdout",
     "output_type": "stream",
     "text": [
      "225\n"
     ]
    },
    {
     "data": {
      "text/plain": [
       "(13106, 225)"
      ]
     },
     "execution_count": 135,
     "metadata": {},
     "output_type": "execute_result"
    }
   ],
   "source": [
    "# Find length of abstracts\n",
    "len_abstracts = []\n",
    "for i in np.arange(0, len(abstracts_ints_sub), 1):\n",
    "    len_abstracts.append(len(abstracts_ints_sub[i]))\n",
    "\n",
    "# Create a matrix of titles\n",
    "seq_len = max(len_abstracts) ## max(len_abstracts)\n",
    "print(seq_len)\n",
    "features = np.zeros((len(abstracts_ints_sub), seq_len), dtype=int)\n",
    "for i, row in enumerate(abstracts_ints_sub):\n",
    "    features[i, -len(row):] = np.array(row)[:seq_len]\n",
    "    \n",
    "# Inspect features\n",
    "features.shape"
   ]
  },
  {
   "cell_type": "markdown",
   "metadata": {},
   "source": [
    "### Shuffle and split the data into training, validation, and test sets\n",
    "First, a function is created to do a shuffle-split of the data. Next, a training set of 80% of the original dataset is created. The remaning 20% of the original data is split evenly to create a validation set for model optimization and a test set for final testing. It is important to shuffle the original dataset since it was listed in order of subjects. This is the last preprocessing step necessary to feed our data into TensorFlow."
   ]
  },
  {
   "cell_type": "code",
   "execution_count": 136,
   "metadata": {
    "collapsed": false
   },
   "outputs": [
    {
     "name": "stdout",
     "output_type": "stream",
     "text": [
      "6510\n",
      "8601\n",
      "9505\n",
      "10305\n",
      "10901\n",
      "11406\n",
      "11907\n",
      "12208\n",
      "12310\n",
      "12411\n",
      "12511\n",
      "12611\n",
      "12711\n",
      "12811\n",
      "12910\n"
     ]
    }
   ],
   "source": [
    "for i in range(2, 17):\n",
    "    classes = data['class'].value_counts().index.tolist()[:i]\n",
    "    indices = data.index[data['class'].isin(classes)].tolist()\n",
    "    print(len(indices))"
   ]
  },
  {
   "cell_type": "code",
   "execution_count": 137,
   "metadata": {
    "collapsed": true
   },
   "outputs": [],
   "source": [
    "# Function to shuffl and split original dataset\n",
    "from sklearn import model_selection\n",
    "\n",
    "num_test = int(0.2 * len(abstracts_ints_sub))\n",
    "\n",
    "def shuffle_split(X, y):\n",
    "    \n",
    "    ss = model_selection.ShuffleSplit(test_size=num_test)\n",
    "    \n",
    "    for train_index, test_index in ss.split(X):\n",
    "        X_train = X[train_index]\n",
    "        y_train = y[train_index]\n",
    "        X_test = X[test_index]\n",
    "        y_test = y[test_index]\n",
    "        \n",
    "    return X_train, y_train, X_test, y_test"
   ]
  },
  {
   "cell_type": "code",
   "execution_count": 138,
   "metadata": {
    "collapsed": false
   },
   "outputs": [
    {
     "name": "stdout",
     "output_type": "stream",
     "text": [
      "\t\t\tFeature Shapes:\n",
      "Train set: \t\t(10289, 225) \n",
      "Validation set: \t(1311, 225) \n",
      "Test set: \t\t(1310, 225)\n"
     ]
    }
   ],
   "source": [
    "# Create first split for training and test sets\n",
    "X_train, y_train, X_test, y_test = shuffle_split(features[indices], labels_ints_sub[indices])\n",
    "\n",
    "# Split test set to validation and final test sets\n",
    "test_idx = int(len(y_test)*0.5)\n",
    "X_val, y_val = X_test[test_idx:], y_test[test_idx:] ## For validation\n",
    "X_tst, y_tst = X_test[:test_idx], y_test[:test_idx] ## For final testing\n",
    "\n",
    "# Print final shapes\n",
    "print('\\t\\t\\tFeature Shapes:')\n",
    "print('Train set: \\t\\t{}'.format(X_train.shape),\n",
    "     '\\nValidation set: \\t{}'.format(X_val.shape),\n",
    "     '\\nTest set: \\t\\t{}'.format(X_tst.shape))"
   ]
  },
  {
   "cell_type": "markdown",
   "metadata": {},
   "source": [
    "## Build the TensorFlow Graph\n",
    "Here, we'll build the graph. TensorFlow represents computations as a graph composed of nodes, where a node in a graph is an operation that converts zero or more Tensors and computes zero or more Tensors. \n",
    "\n",
    "First up, defining the hyperparameters.\n",
    "\n",
    "* `lstm_size`: Number of units in the hidden layers in the LSTM cells. Usually larger is better performance wise. Common values are 128, 256, 512, etc.\n",
    "* `lstm_layers`: Number of LSTM layers in the network. One is a good starting point and this code needs to be updated to add more lstm_layer. Therefore, we will keep one layer fixed for now.\n",
    "* `batch_size`: The number of titles to feed the network in one training pass. Typically this should be set as high as you can go without running out of memory.\n",
    "* `learning_rate`: Learning rate determines how \"quickly\" the optimizers will explore the solution space. "
   ]
  },
  {
   "cell_type": "code",
   "execution_count": 12,
   "metadata": {
    "collapsed": true
   },
   "outputs": [],
   "source": [
    "# Key hyperparameters\n",
    "lstm_size = 128\n",
    "lstm_layers = 1\n",
    "batch_size = 100\n",
    "learning_rate = 0.01"
   ]
  },
  {
   "cell_type": "markdown",
   "metadata": {},
   "source": [
    "### Define constants and initialize input placeholders\n",
    "Constants descriptive of the dataset need to be defined for later use in the training. Also, in TensorFlow it is necessary to create *placeholders* for inputs into the model. "
   ]
  },
  {
   "cell_type": "code",
   "execution_count": 13,
   "metadata": {
    "collapsed": true
   },
   "outputs": [],
   "source": [
    "# Constants needed to account for data properties\n",
    "n_words = len(vocab_to_int)\n",
    "n_classes = y_train.shape[1]\n",
    "\n",
    "# Create the graph object\n",
    "graph = tf.Graph()\n",
    "# Add nodes to the graph\n",
    "with graph.as_default():\n",
    "    inputs_ = tf.placeholder(tf.int32, [None, None], name='inputs') ## Titles\n",
    "    labels_ = tf.placeholder(tf.int32, [None, None], name='labels') ## Subjects\n",
    "    keep_prob = tf.placeholder(tf.float32, name='keep_prob') ## Drop probablity during training"
   ]
  },
  {
   "cell_type": "markdown",
   "metadata": {},
   "source": [
    "### Create embedding layer\n",
    "It is inefficient to one-hot encode all words in the vocabulary. Therefore, an embedding lookup matrix is created to get the embedded vectors to pass to the LSTM cell. "
   ]
  },
  {
   "cell_type": "code",
   "execution_count": 14,
   "metadata": {
    "collapsed": true
   },
   "outputs": [],
   "source": [
    "# Size of the embedding vectors (number of units in the embedding layer)\n",
    "embed_size = 300 \n",
    "\n",
    "with graph.as_default():\n",
    "    embedding = tf.Variable(tf.random_uniform((n_words, embed_size), -1, 1)) ## Lookup matrix\n",
    "    embed = tf.nn.embedding_lookup(embedding, inputs_) ## Pass embedding "
   ]
  },
  {
   "cell_type": "markdown",
   "metadata": {},
   "source": [
    "### Build LSTM cell and run data through RNN nodes\n",
    "An LSTM cell is created with dropout and the possibility of adding multiple layers if needed. The final 'cell' is then sent through the RNN nodes with *dynamic_rnn*, where TensorFlow takes care of the unrolling and time step computations."
   ]
  },
  {
   "cell_type": "code",
   "execution_count": 15,
   "metadata": {
    "collapsed": true
   },
   "outputs": [],
   "source": [
    "with graph.as_default():\n",
    "    # Your basic LSTM cell\n",
    "    lstm = tf.contrib.rnn.BasicLSTMCell(lstm_size)\n",
    "    \n",
    "    # Add dropout to the cell\n",
    "    drop = tf.contrib.rnn.DropoutWrapper(lstm, output_keep_prob=keep_prob)\n",
    "    \n",
    "    # Stack up multiple LSTM layers, for deep learning\n",
    "    cell = tf.contrib.rnn.MultiRNNCell([drop] * lstm_layers)\n",
    "    \n",
    "    # Getting an initial state of all zeros\n",
    "    initial_state = cell.zero_state(batch_size, tf.float32)"
   ]
  },
  {
   "cell_type": "code",
   "execution_count": 16,
   "metadata": {
    "collapsed": true
   },
   "outputs": [],
   "source": [
    "with graph.as_default():\n",
    "    # Run cell through RNN\n",
    "    outputs, final_state = tf.nn.dynamic_rnn(cell, embed,\n",
    "                                             initial_state=initial_state)"
   ]
  },
  {
   "cell_type": "markdown",
   "metadata": {},
   "source": [
    "### Calculate predictions and validation accuracy from outputs\n",
    "By using the final outputs, it is possible then to predict the subjects for each title. To gauage the accuracy of the RNN, a validation accuracy is determined using the validation set. "
   ]
  },
  {
   "cell_type": "code",
   "execution_count": 17,
   "metadata": {
    "collapsed": false
   },
   "outputs": [
    {
     "name": "stdout",
     "output_type": "stream",
     "text": [
      "Tensor(\"fully_connected/Sigmoid:0\", shape=(100, 7), dtype=float32)\n"
     ]
    }
   ],
   "source": [
    "# Create predictions and calculate and optimize cost\n",
    "with graph.as_default():\n",
    "    predictions = tf.contrib.layers.fully_connected(outputs[:, -1], n_classes, activation_fn=tf.sigmoid)\n",
    "    print(predictions) ## Check dimensions; need to match bath size and subject types\n",
    "    cost = tf.losses.mean_squared_error(labels_, predictions)\n",
    "    \n",
    "    optimizer = tf.train.AdamOptimizer(learning_rate).minimize(cost)"
   ]
  },
  {
   "cell_type": "code",
   "execution_count": 18,
   "metadata": {
    "collapsed": true
   },
   "outputs": [],
   "source": [
    "# Calculate accuracy for validation \n",
    "with graph.as_default():\n",
    "    #correct_pred = tf.equal(tf.cast(tf.round(predictions), tf.int32), labels_)\n",
    "    # Need to account for multiple classifiers\n",
    "    correct_pred = tf.equal((tf.arg_max(tf.round(predictions), 1)), (tf.arg_max(labels_, 1)))    \n",
    "    accuracy = tf.reduce_mean(tf.cast(correct_pred, tf.float32))"
   ]
  },
  {
   "cell_type": "markdown",
   "metadata": {},
   "source": [
    "### Make batches and train RNN\n",
    "Create a function to create batchs of arbitrary size and igoner any entries left over. These batches will then be used to train the RNN and validate accuracy on the validation sets. A checkpoint file is created to record the neural network training and then can be used on the final test set. "
   ]
  },
  {
   "cell_type": "code",
   "execution_count": 19,
   "metadata": {
    "collapsed": true
   },
   "outputs": [],
   "source": [
    "# Function to create batches\n",
    "def get_batches(x, y, batch_size=10):\n",
    "    \n",
    "    n_batches = len(x)//batch_size ## Removes left over rows\n",
    "    x, y = x[:n_batches*batch_size], y[:n_batches*batch_size]\n",
    "    for ii in range(0, len(x), batch_size):\n",
    "        yield x[ii:ii+batch_size], y[ii:ii+batch_size]"
   ]
  },
  {
   "cell_type": "code",
   "execution_count": 20,
   "metadata": {
    "collapsed": false
   },
   "outputs": [
    {
     "name": "stdout",
     "output_type": "stream",
     "text": [
      "Epoch: 0/200 Iteration: 100 Train loss: 0.071\n",
      "Val acc: 0.667\n",
      "Epoch: 1/200 Iteration: 200 Train loss: 0.054\n",
      "Val acc: 0.652\n",
      "Epoch: 2/200 Iteration: 300 Train loss: 0.043\n",
      "Val acc: 0.672\n",
      "Epoch: 3/200 Iteration: 400 Train loss: 0.031\n",
      "Val acc: 0.672\n",
      "Epoch: 4/200 Iteration: 500 Train loss: 0.023\n",
      "Val acc: 0.680\n",
      "Epoch: 5/200 Iteration: 600 Train loss: 0.022\n",
      "Val acc: 0.684\n",
      "Epoch: 6/200 Iteration: 700 Train loss: 0.013\n",
      "Val acc: 0.687\n",
      "Epoch: 7/200 Iteration: 800 Train loss: 0.015\n",
      "Val acc: 0.690\n",
      "Epoch: 8/200 Iteration: 900 Train loss: 0.009\n",
      "Val acc: 0.693\n",
      "Epoch: 9/200 Iteration: 1000 Train loss: 0.018\n",
      "Val acc: 0.696\n",
      "Epoch: 10/200 Iteration: 1100 Train loss: 0.015\n",
      "Val acc: 0.698\n",
      "Epoch: 11/200 Iteration: 1200 Train loss: 0.008\n",
      "Val acc: 0.699\n",
      "Epoch: 12/200 Iteration: 1300 Train loss: 0.012\n",
      "Val acc: 0.700\n",
      "Epoch: 13/200 Iteration: 1400 Train loss: 0.007\n",
      "Val acc: 0.701\n",
      "Epoch: 14/200 Iteration: 1500 Train loss: 0.010\n",
      "Val acc: 0.701\n",
      "Epoch: 15/200 Iteration: 1600 Train loss: 0.011\n",
      "Val acc: 0.703\n",
      "Epoch: 16/200 Iteration: 1700 Train loss: 0.015\n",
      "Val acc: 0.703\n",
      "Epoch: 17/200 Iteration: 1800 Train loss: 0.008\n",
      "Val acc: 0.703\n",
      "Epoch: 18/200 Iteration: 1900 Train loss: 0.011\n",
      "Val acc: 0.703\n",
      "Epoch: 19/200 Iteration: 2000 Train loss: 0.009\n",
      "Val acc: 0.703\n",
      "Epoch: 20/200 Iteration: 2100 Train loss: 0.005\n",
      "Val acc: 0.703\n",
      "Epoch: 21/200 Iteration: 2200 Train loss: 0.010\n",
      "Val acc: 0.703\n",
      "Epoch: 22/200 Iteration: 2300 Train loss: 0.010\n",
      "Val acc: 0.704\n",
      "Epoch: 23/200 Iteration: 2400 Train loss: 0.003\n",
      "Val acc: 0.703\n",
      "Epoch: 24/200 Iteration: 2500 Train loss: 0.014\n",
      "Val acc: 0.702\n",
      "Epoch: 25/200 Iteration: 2600 Train loss: 0.009\n",
      "Val acc: 0.701\n",
      "Epoch: 26/200 Iteration: 2700 Train loss: 0.010\n",
      "Val acc: 0.702\n",
      "Epoch: 27/200 Iteration: 2800 Train loss: 0.008\n",
      "Val acc: 0.702\n",
      "Epoch: 28/200 Iteration: 2900 Train loss: 0.009\n",
      "Val acc: 0.702\n",
      "Epoch: 29/200 Iteration: 3000 Train loss: 0.023\n",
      "Val acc: 0.702\n",
      "Epoch: 30/200 Iteration: 3100 Train loss: 0.016\n",
      "Val acc: 0.701\n",
      "Epoch: 31/200 Iteration: 3200 Train loss: 0.012\n",
      "Val acc: 0.701\n",
      "Epoch: 32/200 Iteration: 3300 Train loss: 0.013\n",
      "Val acc: 0.701\n",
      "Epoch: 33/200 Iteration: 3400 Train loss: 0.016\n",
      "Val acc: 0.700\n",
      "Epoch: 33/200 Iteration: 3500 Train loss: 0.009\n",
      "Val acc: 0.700\n",
      "Epoch: 34/200 Iteration: 3600 Train loss: 0.011\n",
      "Val acc: 0.699\n",
      "Epoch: 35/200 Iteration: 3700 Train loss: 0.020\n",
      "Val acc: 0.698\n",
      "Epoch: 36/200 Iteration: 3800 Train loss: 0.020\n",
      "Val acc: 0.697\n",
      "Epoch: 37/200 Iteration: 3900 Train loss: 0.020\n",
      "Val acc: 0.697\n",
      "Epoch: 38/200 Iteration: 4000 Train loss: 0.016\n",
      "Val acc: 0.696\n",
      "Epoch: 39/200 Iteration: 4100 Train loss: 0.010\n",
      "Val acc: 0.696\n",
      "Epoch: 40/200 Iteration: 4200 Train loss: 0.035\n",
      "Val acc: 0.695\n",
      "Epoch: 41/200 Iteration: 4300 Train loss: 0.025\n",
      "Val acc: 0.694\n",
      "Epoch: 42/200 Iteration: 4400 Train loss: 0.030\n",
      "Val acc: 0.693\n",
      "Epoch: 43/200 Iteration: 4500 Train loss: 0.027\n",
      "Val acc: 0.692\n",
      "Epoch: 44/200 Iteration: 4600 Train loss: 0.040\n",
      "Val acc: 0.690\n",
      "Epoch: 45/200 Iteration: 4700 Train loss: 0.036\n",
      "Val acc: 0.689\n",
      "Epoch: 46/200 Iteration: 4800 Train loss: 0.034\n",
      "Val acc: 0.688\n",
      "Epoch: 47/200 Iteration: 4900 Train loss: 0.025\n",
      "Val acc: 0.687\n",
      "Epoch: 48/200 Iteration: 5000 Train loss: 0.023\n",
      "Val acc: 0.686\n",
      "Epoch: 49/200 Iteration: 5100 Train loss: 0.016\n",
      "Val acc: 0.685\n",
      "Epoch: 50/200 Iteration: 5200 Train loss: 0.025\n",
      "Val acc: 0.684\n",
      "Epoch: 51/200 Iteration: 5300 Train loss: 0.020\n",
      "Val acc: 0.683\n",
      "Epoch: 52/200 Iteration: 5400 Train loss: 0.018\n",
      "Val acc: 0.682\n",
      "Epoch: 53/200 Iteration: 5500 Train loss: 0.034\n",
      "Val acc: 0.681\n",
      "Epoch: 54/200 Iteration: 5600 Train loss: 0.020\n",
      "Val acc: 0.680\n",
      "Epoch: 55/200 Iteration: 5700 Train loss: 0.032\n",
      "Val acc: 0.679\n",
      "Epoch: 56/200 Iteration: 5800 Train loss: 0.034\n",
      "Val acc: 0.679\n",
      "Epoch: 57/200 Iteration: 5900 Train loss: 0.017\n",
      "Val acc: 0.678\n",
      "Epoch: 58/200 Iteration: 6000 Train loss: 0.025\n",
      "Val acc: 0.677\n",
      "Epoch: 59/200 Iteration: 6100 Train loss: 0.016\n",
      "Val acc: 0.677\n",
      "Epoch: 60/200 Iteration: 6200 Train loss: 0.021\n",
      "Val acc: 0.676\n",
      "Epoch: 61/200 Iteration: 6300 Train loss: 0.021\n",
      "Val acc: 0.675\n",
      "Epoch: 62/200 Iteration: 6400 Train loss: 0.026\n",
      "Val acc: 0.674\n",
      "Epoch: 63/200 Iteration: 6500 Train loss: 0.029\n",
      "Val acc: 0.674\n",
      "Epoch: 64/200 Iteration: 6600 Train loss: 0.027\n",
      "Val acc: 0.673\n",
      "Epoch: 65/200 Iteration: 6700 Train loss: 0.018\n",
      "Val acc: 0.673\n",
      "Epoch: 66/200 Iteration: 6800 Train loss: 0.018\n",
      "Val acc: 0.672\n",
      "Epoch: 66/200 Iteration: 6900 Train loss: 0.027\n",
      "Val acc: 0.671\n",
      "Epoch: 67/200 Iteration: 7000 Train loss: 0.020\n",
      "Val acc: 0.671\n",
      "Epoch: 68/200 Iteration: 7100 Train loss: 0.036\n",
      "Val acc: 0.670\n",
      "Epoch: 69/200 Iteration: 7200 Train loss: 0.035\n",
      "Val acc: 0.669\n",
      "Epoch: 70/200 Iteration: 7300 Train loss: 0.043\n",
      "Val acc: 0.669\n",
      "Epoch: 71/200 Iteration: 7400 Train loss: 0.051\n",
      "Val acc: 0.667\n",
      "Epoch: 72/200 Iteration: 7500 Train loss: 0.034\n",
      "Val acc: 0.666\n",
      "Epoch: 73/200 Iteration: 7600 Train loss: 0.048\n",
      "Val acc: 0.666\n",
      "Epoch: 74/200 Iteration: 7700 Train loss: 0.032\n",
      "Val acc: 0.665\n",
      "Epoch: 75/200 Iteration: 7800 Train loss: 0.035\n",
      "Val acc: 0.664\n",
      "Epoch: 76/200 Iteration: 7900 Train loss: 0.027\n",
      "Val acc: 0.663\n",
      "Epoch: 77/200 Iteration: 8000 Train loss: 0.040\n",
      "Val acc: 0.662\n",
      "Epoch: 78/200 Iteration: 8100 Train loss: 0.034\n",
      "Val acc: 0.661\n",
      "Epoch: 79/200 Iteration: 8200 Train loss: 0.052\n",
      "Val acc: 0.660\n",
      "Epoch: 80/200 Iteration: 8300 Train loss: 0.046\n",
      "Val acc: 0.660\n",
      "Epoch: 81/200 Iteration: 8400 Train loss: 0.042\n",
      "Val acc: 0.659\n",
      "Epoch: 82/200 Iteration: 8500 Train loss: 0.040\n",
      "Val acc: 0.658\n",
      "Epoch: 83/200 Iteration: 8600 Train loss: 0.044\n",
      "Val acc: 0.657\n",
      "Epoch: 84/200 Iteration: 8700 Train loss: 0.047\n",
      "Val acc: 0.657\n",
      "Epoch: 85/200 Iteration: 8800 Train loss: 0.039\n",
      "Val acc: 0.656\n",
      "Epoch: 86/200 Iteration: 8900 Train loss: 0.036\n",
      "Val acc: 0.655\n",
      "Epoch: 87/200 Iteration: 9000 Train loss: 0.045\n",
      "Val acc: 0.654\n",
      "Epoch: 88/200 Iteration: 9100 Train loss: 0.046\n",
      "Val acc: 0.654\n",
      "Epoch: 89/200 Iteration: 9200 Train loss: 0.042\n",
      "Val acc: 0.653\n",
      "Epoch: 90/200 Iteration: 9300 Train loss: 0.033\n",
      "Val acc: 0.652\n",
      "Epoch: 91/200 Iteration: 9400 Train loss: 0.033\n",
      "Val acc: 0.651\n",
      "Epoch: 92/200 Iteration: 9500 Train loss: 0.044\n",
      "Val acc: 0.651\n",
      "Epoch: 93/200 Iteration: 9600 Train loss: 0.039\n",
      "Val acc: 0.650\n",
      "Epoch: 94/200 Iteration: 9700 Train loss: 0.037\n",
      "Val acc: 0.650\n",
      "Epoch: 95/200 Iteration: 9800 Train loss: 0.037\n",
      "Val acc: 0.649\n",
      "Epoch: 96/200 Iteration: 9900 Train loss: 0.032\n",
      "Val acc: 0.649\n",
      "Epoch: 97/200 Iteration: 10000 Train loss: 0.043\n",
      "Val acc: 0.648\n",
      "Epoch: 98/200 Iteration: 10100 Train loss: 0.028\n",
      "Val acc: 0.648\n",
      "Epoch: 99/200 Iteration: 10200 Train loss: 0.039\n",
      "Val acc: 0.647\n",
      "Epoch: 99/200 Iteration: 10300 Train loss: 0.027\n",
      "Val acc: 0.647\n",
      "Epoch: 100/200 Iteration: 10400 Train loss: 0.027\n",
      "Val acc: 0.646\n",
      "Epoch: 101/200 Iteration: 10500 Train loss: 0.037\n",
      "Val acc: 0.646\n",
      "Epoch: 102/200 Iteration: 10600 Train loss: 0.038\n",
      "Val acc: 0.646\n",
      "Epoch: 103/200 Iteration: 10700 Train loss: 0.032\n",
      "Val acc: 0.646\n",
      "Epoch: 104/200 Iteration: 10800 Train loss: 0.022\n",
      "Val acc: 0.645\n",
      "Epoch: 105/200 Iteration: 10900 Train loss: 0.041\n",
      "Val acc: 0.645\n",
      "Epoch: 106/200 Iteration: 11000 Train loss: 0.030\n",
      "Val acc: 0.645\n",
      "Epoch: 107/200 Iteration: 11100 Train loss: 0.028\n",
      "Val acc: 0.644\n",
      "Epoch: 108/200 Iteration: 11200 Train loss: 0.040\n",
      "Val acc: 0.644\n",
      "Epoch: 109/200 Iteration: 11300 Train loss: 0.042\n",
      "Val acc: 0.644\n",
      "Epoch: 110/200 Iteration: 11400 Train loss: 0.033\n",
      "Val acc: 0.643\n",
      "Epoch: 111/200 Iteration: 11500 Train loss: 0.031\n",
      "Val acc: 0.643\n",
      "Epoch: 112/200 Iteration: 11600 Train loss: 0.022\n",
      "Val acc: 0.643\n",
      "Epoch: 113/200 Iteration: 11700 Train loss: 0.030\n",
      "Val acc: 0.643\n",
      "Epoch: 114/200 Iteration: 11800 Train loss: 0.037\n",
      "Val acc: 0.642\n",
      "Epoch: 115/200 Iteration: 11900 Train loss: 0.030\n",
      "Val acc: 0.642\n",
      "Epoch: 116/200 Iteration: 12000 Train loss: 0.030\n",
      "Val acc: 0.642\n",
      "Epoch: 117/200 Iteration: 12100 Train loss: 0.027\n",
      "Val acc: 0.642\n",
      "Epoch: 118/200 Iteration: 12200 Train loss: 0.035\n",
      "Val acc: 0.642\n",
      "Epoch: 119/200 Iteration: 12300 Train loss: 0.042\n",
      "Val acc: 0.641\n",
      "Epoch: 120/200 Iteration: 12400 Train loss: 0.034\n",
      "Val acc: 0.641\n",
      "Epoch: 121/200 Iteration: 12500 Train loss: 0.031\n",
      "Val acc: 0.641\n",
      "Epoch: 122/200 Iteration: 12600 Train loss: 0.036\n",
      "Val acc: 0.640\n",
      "Epoch: 123/200 Iteration: 12700 Train loss: 0.033\n",
      "Val acc: 0.640\n",
      "Epoch: 124/200 Iteration: 12800 Train loss: 0.048\n",
      "Val acc: 0.640\n",
      "Epoch: 125/200 Iteration: 12900 Train loss: 0.051\n",
      "Val acc: 0.639\n",
      "Epoch: 126/200 Iteration: 13000 Train loss: 0.040\n",
      "Val acc: 0.639\n",
      "Epoch: 127/200 Iteration: 13100 Train loss: 0.032\n",
      "Val acc: 0.638\n",
      "Epoch: 128/200 Iteration: 13200 Train loss: 0.047\n",
      "Val acc: 0.638\n",
      "Epoch: 129/200 Iteration: 13300 Train loss: 0.045\n",
      "Val acc: 0.638\n",
      "Epoch: 130/200 Iteration: 13400 Train loss: 0.044\n",
      "Val acc: 0.637\n",
      "Epoch: 131/200 Iteration: 13500 Train loss: 0.050\n",
      "Val acc: 0.637\n",
      "Epoch: 132/200 Iteration: 13600 Train loss: 0.037\n",
      "Val acc: 0.636\n",
      "Epoch: 133/200 Iteration: 13700 Train loss: 0.038\n",
      "Val acc: 0.636\n",
      "Epoch: 133/200 Iteration: 13800 Train loss: 0.036\n",
      "Val acc: 0.636\n",
      "Epoch: 134/200 Iteration: 13900 Train loss: 0.043\n",
      "Val acc: 0.635\n",
      "Epoch: 135/200 Iteration: 14000 Train loss: 0.042\n",
      "Val acc: 0.635\n",
      "Epoch: 136/200 Iteration: 14100 Train loss: 0.046\n",
      "Val acc: 0.635\n",
      "Epoch: 137/200 Iteration: 14200 Train loss: 0.038\n",
      "Val acc: 0.634\n",
      "Epoch: 138/200 Iteration: 14300 Train loss: 0.031\n",
      "Val acc: 0.634\n",
      "Epoch: 139/200 Iteration: 14400 Train loss: 0.048\n",
      "Val acc: 0.634\n",
      "Epoch: 140/200 Iteration: 14500 Train loss: 0.043\n",
      "Val acc: 0.633\n",
      "Epoch: 141/200 Iteration: 14600 Train loss: 0.046\n",
      "Val acc: 0.633\n",
      "Epoch: 142/200 Iteration: 14700 Train loss: 0.045\n",
      "Val acc: 0.633\n",
      "Epoch: 143/200 Iteration: 14800 Train loss: 0.046\n",
      "Val acc: 0.632\n",
      "Epoch: 144/200 Iteration: 14900 Train loss: 0.049\n",
      "Val acc: 0.632\n",
      "Epoch: 145/200 Iteration: 15000 Train loss: 0.045\n",
      "Val acc: 0.632\n",
      "Epoch: 146/200 Iteration: 15100 Train loss: 0.043\n",
      "Val acc: 0.631\n",
      "Epoch: 147/200 Iteration: 15200 Train loss: 0.046\n",
      "Val acc: 0.631\n",
      "Epoch: 148/200 Iteration: 15300 Train loss: 0.039\n",
      "Val acc: 0.631\n",
      "Epoch: 149/200 Iteration: 15400 Train loss: 0.035\n",
      "Val acc: 0.630\n",
      "Epoch: 150/200 Iteration: 15500 Train loss: 0.036\n",
      "Val acc: 0.630\n",
      "Epoch: 151/200 Iteration: 15600 Train loss: 0.038\n",
      "Val acc: 0.630\n",
      "Epoch: 152/200 Iteration: 15700 Train loss: 0.032\n",
      "Val acc: 0.629\n",
      "Epoch: 153/200 Iteration: 15800 Train loss: 0.058\n",
      "Val acc: 0.629\n",
      "Epoch: 154/200 Iteration: 15900 Train loss: 0.037\n",
      "Val acc: 0.629\n",
      "Epoch: 155/200 Iteration: 16000 Train loss: 0.037\n",
      "Val acc: 0.628\n",
      "Epoch: 156/200 Iteration: 16100 Train loss: 0.042\n",
      "Val acc: 0.628\n",
      "Epoch: 157/200 Iteration: 16200 Train loss: 0.034\n",
      "Val acc: 0.628\n",
      "Epoch: 158/200 Iteration: 16300 Train loss: 0.047\n",
      "Val acc: 0.628\n",
      "Epoch: 159/200 Iteration: 16400 Train loss: 0.033\n",
      "Val acc: 0.628\n",
      "Epoch: 160/200 Iteration: 16500 Train loss: 0.039\n",
      "Val acc: 0.627\n",
      "Epoch: 161/200 Iteration: 16600 Train loss: 0.032\n",
      "Val acc: 0.627\n",
      "Epoch: 162/200 Iteration: 16700 Train loss: 0.028\n",
      "Val acc: 0.627\n",
      "Epoch: 163/200 Iteration: 16800 Train loss: 0.042\n",
      "Val acc: 0.627\n",
      "Epoch: 164/200 Iteration: 16900 Train loss: 0.031\n",
      "Val acc: 0.626\n",
      "Epoch: 165/200 Iteration: 17000 Train loss: 0.034\n",
      "Val acc: 0.626\n",
      "Epoch: 166/200 Iteration: 17100 Train loss: 0.036\n",
      "Val acc: 0.626\n",
      "Epoch: 166/200 Iteration: 17200 Train loss: 0.042\n",
      "Val acc: 0.626\n",
      "Epoch: 167/200 Iteration: 17300 Train loss: 0.044\n",
      "Val acc: 0.625\n",
      "Epoch: 168/200 Iteration: 17400 Train loss: 0.044\n",
      "Val acc: 0.625\n",
      "Epoch: 169/200 Iteration: 17500 Train loss: 0.055\n",
      "Val acc: 0.625\n",
      "Epoch: 170/200 Iteration: 17600 Train loss: 0.042\n",
      "Val acc: 0.625\n",
      "Epoch: 171/200 Iteration: 17700 Train loss: 0.046\n",
      "Val acc: 0.625\n",
      "Epoch: 172/200 Iteration: 17800 Train loss: 0.042\n",
      "Val acc: 0.624\n",
      "Epoch: 173/200 Iteration: 17900 Train loss: 0.039\n",
      "Val acc: 0.624\n",
      "Epoch: 174/200 Iteration: 18000 Train loss: 0.046\n",
      "Val acc: 0.624\n",
      "Epoch: 175/200 Iteration: 18100 Train loss: 0.043\n",
      "Val acc: 0.624\n",
      "Epoch: 176/200 Iteration: 18200 Train loss: 0.034\n",
      "Val acc: 0.624\n",
      "Epoch: 177/200 Iteration: 18300 Train loss: 0.038\n",
      "Val acc: 0.623\n",
      "Epoch: 178/200 Iteration: 18400 Train loss: 0.039\n",
      "Val acc: 0.623\n",
      "Epoch: 179/200 Iteration: 18500 Train loss: 0.043\n",
      "Val acc: 0.623\n",
      "Epoch: 180/200 Iteration: 18600 Train loss: 0.061\n",
      "Val acc: 0.623\n",
      "Epoch: 181/200 Iteration: 18700 Train loss: 0.036\n",
      "Val acc: 0.623\n",
      "Epoch: 182/200 Iteration: 18800 Train loss: 0.032\n",
      "Val acc: 0.623\n",
      "Epoch: 183/200 Iteration: 18900 Train loss: 0.049\n",
      "Val acc: 0.622\n",
      "Epoch: 184/200 Iteration: 19000 Train loss: 0.033\n",
      "Val acc: 0.622\n",
      "Epoch: 185/200 Iteration: 19100 Train loss: 0.038\n",
      "Val acc: 0.622\n",
      "Epoch: 186/200 Iteration: 19200 Train loss: 0.030\n",
      "Val acc: 0.622\n",
      "Epoch: 187/200 Iteration: 19300 Train loss: 0.050\n",
      "Val acc: 0.621\n",
      "Epoch: 188/200 Iteration: 19400 Train loss: 0.036\n",
      "Val acc: 0.621\n",
      "Epoch: 189/200 Iteration: 19500 Train loss: 0.038\n",
      "Val acc: 0.621\n",
      "Epoch: 190/200 Iteration: 19600 Train loss: 0.045\n",
      "Val acc: 0.621\n",
      "Epoch: 191/200 Iteration: 19700 Train loss: 0.046\n",
      "Val acc: 0.620\n",
      "Epoch: 192/200 Iteration: 19800 Train loss: 0.046\n",
      "Val acc: 0.620\n",
      "Epoch: 193/200 Iteration: 19900 Train loss: 0.048\n",
      "Val acc: 0.620\n",
      "Epoch: 194/200 Iteration: 20000 Train loss: 0.049\n",
      "Val acc: 0.620\n",
      "Epoch: 195/200 Iteration: 20100 Train loss: 0.044\n",
      "Val acc: 0.619\n",
      "Epoch: 196/200 Iteration: 20200 Train loss: 0.045\n",
      "Val acc: 0.619\n",
      "Epoch: 197/200 Iteration: 20300 Train loss: 0.053\n",
      "Val acc: 0.619\n",
      "Epoch: 198/200 Iteration: 20400 Train loss: 0.044\n",
      "Val acc: 0.619\n",
      "Epoch: 199/200 Iteration: 20500 Train loss: 0.044\n",
      "Val acc: 0.618\n",
      "Epoch: 199/200 Iteration: 20600 Train loss: 0.033\n",
      "Val acc: 0.618\n"
     ]
    }
   ],
   "source": [
    "# Typical trainig code for TensorFlow\n",
    "\n",
    "epochs = 20 ## Number of full iterations\n",
    "\n",
    "with graph.as_default():\n",
    "    saver = tf.train.Saver()\n",
    "losses = [] ## Keep track of training losses for plotting later\n",
    "val_acc = [] ## Keep track of validation accuracy for plotting later\n",
    "with tf.Session(graph=graph) as sess:\n",
    "    sess.run(tf.global_variables_initializer())\n",
    "    iteration = 1\n",
    "    for e in range(epochs):\n",
    "        state = sess.run(initial_state)\n",
    "        \n",
    "        for ii, (x, y) in enumerate(get_batches(X_train, y_train, batch_size), 1):\n",
    "            feed = {inputs_: x,\n",
    "                    labels_: np.array(y),\n",
    "                    keep_prob: 0.5,\n",
    "                    initial_state: state}\n",
    "            \n",
    "            loss, state, _ = sess.run([cost, final_state, optimizer], feed_dict=feed)\n",
    "            losses.append(loss)\n",
    "            if iteration%100==0:\n",
    "                print(\"Epoch: {}/{}\".format(e, epochs),\n",
    "                      \"Iteration: {}\".format(iteration),\n",
    "                      \"Train loss: {:.3f}\".format(loss))\n",
    "            if iteration%100==0:\n",
    "                \n",
    "                val_state = sess.run(cell.zero_state(batch_size, tf.float32))\n",
    "                for x, y in get_batches(X_val, y_val, batch_size):\n",
    "                    feed = {inputs_: x,\n",
    "                            labels_: np.array(y),\n",
    "                            keep_prob: 1,\n",
    "                            initial_state: val_state}\n",
    "                    batch_acc, val_state = sess.run([accuracy, final_state], feed_dict=feed)\n",
    "                    val_acc.append(batch_acc)\n",
    "                print(\"Val acc: {:.3f}\".format(np.mean(val_acc)))\n",
    "            iteration +=1\n",
    "\n",
    "    saver.save(sess, \"checkpoints/abstracts.ckpt\")"
   ]
  },
  {
   "cell_type": "code",
   "execution_count": 21,
   "metadata": {
    "collapsed": false
   },
   "outputs": [
    {
     "data": {
      "image/png": "[encoded data removed]",
      "text/plain": [
       "<matplotlib.figure.Figure at 0x7f3b4c60cb70>"
      ]
     },
     "metadata": {
      "image/png": {
       "height": 252,
       "width": 388
      }
     },
     "output_type": "display_data"
    }
   ],
   "source": [
    "plt.plot(losses, label='Training Loss')\n",
    "plt.legend()\n",
    "plt.ylim(ymax=0.07)\n",
    "plt.show()\n",
    "\n",
    "\n",
    "with open('128_1_150embed_loss.csv', 'w') as file_handler:\n",
    "    for item in losses:\n",
    "        file_handler.write(\"{}\\n\".format(item))\n",
    "        "
   ]
  },
  {
   "cell_type": "code",
   "execution_count": 22,
   "metadata": {
    "collapsed": false
   },
   "outputs": [
    {
     "data": {
      "image/png": "[encoded data removed]",
      "text/plain": [
       "<matplotlib.figure.Figure at 0x7f3b319aa470>"
      ]
     },
     "metadata": {
      "image/png": {
       "height": 252,
       "width": 380
      }
     },
     "output_type": "display_data"
    }
   ],
   "source": [
    "plt.plot(val_acc, label='Validation Accuracy')\n",
    "plt.legend()\n",
    "plt.ylim(ymax=0.8)\n",
    "plt.show()\n",
    "\n",
    "with open('128_1_150embed_acc.csv', 'w') as file_handler:\n",
    "    for item in val_acc:\n",
    "        file_handler.write(\"{}\\n\".format(item))\n",
    "        "
   ]
  },
  {
   "cell_type": "markdown",
   "metadata": {},
   "source": [
    "### Test RNN on final test set\n",
    "This code runs final test set to determing final accuracy of trained RNN network. It is important to have a directory where the checkpoint file may be stored for this last testing step."
   ]
  },
  {
   "cell_type": "code",
   "execution_count": 23,
   "metadata": {
    "collapsed": false
   },
   "outputs": [
    {
     "name": "stdout",
     "output_type": "stream",
     "text": [
      "INFO:tensorflow:Restoring parameters from checkpoints/abstracts.ckpt\n",
      "Test accuracy: 0.546\n"
     ]
    }
   ],
   "source": [
    "test_acc = []\n",
    "with tf.Session(graph=graph) as sess:\n",
    "    saver.restore(sess, tf.train.latest_checkpoint('checkpoints'))\n",
    "    test_state = sess.run(cell.zero_state(batch_size, tf.float32))\n",
    "    for ii, (x, y) in enumerate(get_batches(X_tst, y_tst, batch_size), 1):\n",
    "        feed = {inputs_: x,\n",
    "                labels_: y,\n",
    "                keep_prob: 1,\n",
    "                initial_state: test_state}\n",
    "        batch_acc, test_state = sess.run([accuracy, final_state], feed_dict=feed)\n",
    "        test_acc.append(batch_acc)\n",
    "    print(\"Test accuracy: {:.3f}\".format(np.mean(test_acc)))"
   ]
  },
  {
   "cell_type": "markdown",
   "metadata": {},
   "source": [
    "## Conclusion\n",
    "May need to a better job of cleaning up the asbtracts. Currently it containts numbers and hyphenated words are not being separated. "
   ]
  },
  {
   "cell_type": "code",
   "execution_count": null,
   "metadata": {
    "collapsed": true
   },
   "outputs": [],
   "source": []
  }
 ],
 "metadata": {
  "anaconda-cloud": {},
  "kernelspec": {
   "display_name": "Python [conda env:tensorflow2]",
   "language": "python",
   "name": "conda-env-tensorflow2-py"
  },
  "language_info": {
   "codemirror_mode": {
    "name": "ipython",
    "version": 3
   },
   "file_extension": ".py",
   "mimetype": "text/x-python",
   "name": "python",
   "nbconvert_exporter": "python",
   "pygments_lexer": "ipython3",
   "version": "3.5.2"
  }
 },
 "nbformat": 4,
 "nbformat_minor": 1
}
